{
 "cells": [
  {
   "cell_type": "markdown",
   "metadata": {},
   "source": [
    "<div style=\"text-align: center\">\n",
    "<h1>INFO 6105 Data Sci Engineering Methods and Tools</h1>\n",
    "</div>\n",
    "<div style=\"text-align: center\">\n",
    "<h2>FINAL PROJECT</h2>\n",
    "</div>\n",
    "<div style=\"text-align: center\">\n",
    "<h3>Sentiment Analysis Reddit Comments</h3>\n",
    "</div>"
   ]
  },
  {
   "cell_type": "code",
   "execution_count": 17,
   "metadata": {},
   "outputs": [],
   "source": [
    "import requests\n",
    "import numpy as np\n",
    "import pandas as pd\n",
    "import json\n",
    "from datetime import datetime\n",
    "import plotly.express as px\n",
    "import textblob\n",
    "from textblob.classifiers import NaiveBayesClassifier\n",
    "import sklearn\n",
    "from sklearn.cluster import KMeans\n",
    "import matplotlib.pyplot as plt\n",
    "import matplotlib.ticker as ticker\n",
    "import seaborn as sns"
   ]
  },
  {
   "cell_type": "code",
   "execution_count": 18,
   "metadata": {},
   "outputs": [],
   "source": [
    "# epoch time corresponding to Tuesday, 31 December 2019 0:00:00 GMT\n",
    "start_date = 1577750400\n",
    "now = datetime.now()\n",
    "now_epoch = now.timestamp()\n",
    "end_date = int(now_epoch)\n",
    "df_final = pd.DataFrame()"
   ]
  },
  {
   "cell_type": "code",
   "execution_count": 21,
   "metadata": {},
   "outputs": [],
   "source": [
    "#defining a function that will make an API call to pushshift which will return the reditt comments\n",
    "def get_pushshift_data(base_url, **kwargs):\n",
    "    base_url = 'https://api.pushshift.io/reddit/search/comment/?'\n",
    "    params = kwargs\n",
    "    request = requests.get(base_url, params=kwargs)\n",
    "    return request.json()\n",
    "while start_date <= end_date:\n",
    "    data = get_pushshift_data(base_url = 'https://api.pushshift.io/reddit/search/comment/?',\n",
    "                              q='coronavirus',\n",
    "                              after=str(start_date),\n",
    "                              before=str(start_date+86400), \n",
    "                              size=500,\n",
    "                              sort_type='score',\n",
    "                              sort='desc').get('data')\n",
    "    #print(data)\n",
    "    if data == None:\n",
    "        start_date = start_date + 86400\n",
    "    else:\n",
    "        df = pd.DataFrame.from_records(data)\n",
    "        df_final= df_final.append(df)\n",
    "        start_date = start_date + 86400\n",
    "\n",
    "# Let's keep only some columns for our final database\n",
    "df_final = df_final[['created_utc', 'author', 'subreddit', 'body', 'score', 'permalink']]\n",
    "\n",
    "# Let's create a new column with all the epoch dates converted\n",
    "df_final['date'] = pd.to_datetime(df_final['created_utc'], unit='s')"
   ]
  },
  {
   "cell_type": "code",
   "execution_count": 22,
   "metadata": {},
   "outputs": [],
   "source": [
    "# Let's keep only some columns for our final database\n",
    "df_final['date'] = pd.to_datetime(df_final['created_utc'], unit='s')\n",
    "df_final['date'] = df_final['date'].values.astype(int)\n",
    "df_final = df_final[['created_utc','date', 'author', 'subreddit', 'body', 'score', 'permalink']]"
   ]
  },
  {
   "cell_type": "code",
   "execution_count": 23,
   "metadata": {},
   "outputs": [
    {
     "data": {
      "text/html": [
       "<div>\n",
       "<style scoped>\n",
       "    .dataframe tbody tr th:only-of-type {\n",
       "        vertical-align: middle;\n",
       "    }\n",
       "\n",
       "    .dataframe tbody tr th {\n",
       "        vertical-align: top;\n",
       "    }\n",
       "\n",
       "    .dataframe thead th {\n",
       "        text-align: right;\n",
       "    }\n",
       "</style>\n",
       "<table border=\"1\" class=\"dataframe\">\n",
       "  <thead>\n",
       "    <tr style=\"text-align: right;\">\n",
       "      <th></th>\n",
       "      <th>created_utc</th>\n",
       "      <th>date</th>\n",
       "      <th>author</th>\n",
       "      <th>subreddit</th>\n",
       "      <th>body</th>\n",
       "      <th>score</th>\n",
       "      <th>permalink</th>\n",
       "    </tr>\n",
       "  </thead>\n",
       "  <tbody>\n",
       "    <tr>\n",
       "      <td>0</td>\n",
       "      <td>1577841828</td>\n",
       "      <td>1706125312</td>\n",
       "      <td>Jouhou</td>\n",
       "      <td>China</td>\n",
       "      <td>Honestly, the the Chinese climate and the high...</td>\n",
       "      <td>1</td>\n",
       "      <td>/r/China/comments/ehx3sw/an_unidentified_type_...</td>\n",
       "    </tr>\n",
       "    <tr>\n",
       "      <td>1</td>\n",
       "      <td>1577851876</td>\n",
       "      <td>-517347328</td>\n",
       "      <td>ImpracticalCats</td>\n",
       "      <td>VetTech</td>\n",
       "      <td>This is interesting, I googled to try to figur...</td>\n",
       "      <td>1</td>\n",
       "      <td>/r/VetTech/comments/ei57ml/hello_anybody_here_...</td>\n",
       "    </tr>\n",
       "    <tr>\n",
       "      <td>0</td>\n",
       "      <td>1577992294</td>\n",
       "      <td>2116844544</td>\n",
       "      <td>murky_comparison</td>\n",
       "      <td>puppy101</td>\n",
       "      <td>Immunity, even if the dog has experienced a na...</td>\n",
       "      <td>8</td>\n",
       "      <td>/r/puppy101/comments/ej2i1i/how_do_you_feel_ab...</td>\n",
       "    </tr>\n",
       "    <tr>\n",
       "      <td>1</td>\n",
       "      <td>1577949412</td>\n",
       "      <td>1070327808</td>\n",
       "      <td>MyrkyCat</td>\n",
       "      <td>Seattle</td>\n",
       "      <td>That symptom is not pathognomonic for RSV by a...</td>\n",
       "      <td>1</td>\n",
       "      <td>/r/Seattle/comments/ehnilr/what_the_heck_kind_...</td>\n",
       "    </tr>\n",
       "    <tr>\n",
       "      <td>0</td>\n",
       "      <td>1578086182</td>\n",
       "      <td>2131753984</td>\n",
       "      <td>murky_comparison</td>\n",
       "      <td>dogs</td>\n",
       "      <td>Not necessarily just curious! For vaccines wil...</td>\n",
       "      <td>3</td>\n",
       "      <td>/r/dogs/comments/ejl7r4/help_hi_rdogs_were_loo...</td>\n",
       "    </tr>\n",
       "  </tbody>\n",
       "</table>\n",
       "</div>"
      ],
      "text/plain": [
       "   created_utc        date            author subreddit  \\\n",
       "0   1577841828  1706125312            Jouhou     China   \n",
       "1   1577851876  -517347328   ImpracticalCats   VetTech   \n",
       "0   1577992294  2116844544  murky_comparison  puppy101   \n",
       "1   1577949412  1070327808          MyrkyCat   Seattle   \n",
       "0   1578086182  2131753984  murky_comparison      dogs   \n",
       "\n",
       "                                                body  score  \\\n",
       "0  Honestly, the the Chinese climate and the high...      1   \n",
       "1  This is interesting, I googled to try to figur...      1   \n",
       "0  Immunity, even if the dog has experienced a na...      8   \n",
       "1  That symptom is not pathognomonic for RSV by a...      1   \n",
       "0  Not necessarily just curious! For vaccines wil...      3   \n",
       "\n",
       "                                           permalink  \n",
       "0  /r/China/comments/ehx3sw/an_unidentified_type_...  \n",
       "1  /r/VetTech/comments/ei57ml/hello_anybody_here_...  \n",
       "0  /r/puppy101/comments/ej2i1i/how_do_you_feel_ab...  \n",
       "1  /r/Seattle/comments/ehnilr/what_the_heck_kind_...  \n",
       "0  /r/dogs/comments/ejl7r4/help_hi_rdogs_were_loo...  "
      ]
     },
     "execution_count": 23,
     "metadata": {},
     "output_type": "execute_result"
    }
   ],
   "source": [
    "# Let's create a new column with all the epoch dates converted\n",
    "\n",
    "df_final.head()"
   ]
  },
  {
   "cell_type": "code",
   "execution_count": 24,
   "metadata": {},
   "outputs": [
    {
     "data": {
      "text/html": [
       "<div>\n",
       "<style scoped>\n",
       "    .dataframe tbody tr th:only-of-type {\n",
       "        vertical-align: middle;\n",
       "    }\n",
       "\n",
       "    .dataframe tbody tr th {\n",
       "        vertical-align: top;\n",
       "    }\n",
       "\n",
       "    .dataframe thead th {\n",
       "        text-align: right;\n",
       "    }\n",
       "</style>\n",
       "<table border=\"1\" class=\"dataframe\">\n",
       "  <thead>\n",
       "    <tr style=\"text-align: right;\">\n",
       "      <th></th>\n",
       "      <th>created_utc</th>\n",
       "      <th>date</th>\n",
       "      <th>author</th>\n",
       "      <th>subreddit</th>\n",
       "      <th>body</th>\n",
       "      <th>score</th>\n",
       "      <th>permalink</th>\n",
       "      <th>sentiment_polarity</th>\n",
       "      <th>sentiment_subjectivity</th>\n",
       "      <th>sentiment</th>\n",
       "      <th>preview</th>\n",
       "    </tr>\n",
       "  </thead>\n",
       "  <tbody>\n",
       "    <tr>\n",
       "      <td>0</td>\n",
       "      <td>1577841828</td>\n",
       "      <td>1706125312</td>\n",
       "      <td>Jouhou</td>\n",
       "      <td>China</td>\n",
       "      <td>Honestly, the the Chinese climate and the high...</td>\n",
       "      <td>1</td>\n",
       "      <td>/r/China/comments/ehx3sw/an_unidentified_type_...</td>\n",
       "      <td>0.139493</td>\n",
       "      <td>0.478382</td>\n",
       "      <td>positive</td>\n",
       "      <td>Honestly, the the Chinese climate and the high...</td>\n",
       "    </tr>\n",
       "    <tr>\n",
       "      <td>1</td>\n",
       "      <td>1577851876</td>\n",
       "      <td>-517347328</td>\n",
       "      <td>ImpracticalCats</td>\n",
       "      <td>VetTech</td>\n",
       "      <td>This is interesting, I googled to try to figur...</td>\n",
       "      <td>1</td>\n",
       "      <td>/r/VetTech/comments/ei57ml/hello_anybody_here_...</td>\n",
       "      <td>0.056818</td>\n",
       "      <td>0.586364</td>\n",
       "      <td>positive</td>\n",
       "      <td>This is interesting, I googled to try to figur...</td>\n",
       "    </tr>\n",
       "    <tr>\n",
       "      <td>0</td>\n",
       "      <td>1577992294</td>\n",
       "      <td>2116844544</td>\n",
       "      <td>murky_comparison</td>\n",
       "      <td>puppy101</td>\n",
       "      <td>Immunity, even if the dog has experienced a na...</td>\n",
       "      <td>8</td>\n",
       "      <td>/r/puppy101/comments/ej2i1i/how_do_you_feel_ab...</td>\n",
       "      <td>0.227778</td>\n",
       "      <td>0.370833</td>\n",
       "      <td>positive</td>\n",
       "      <td>Immunity, even if the dog has experienced a na...</td>\n",
       "    </tr>\n",
       "    <tr>\n",
       "      <td>1</td>\n",
       "      <td>1577949412</td>\n",
       "      <td>1070327808</td>\n",
       "      <td>MyrkyCat</td>\n",
       "      <td>Seattle</td>\n",
       "      <td>That symptom is not pathognomonic for RSV by a...</td>\n",
       "      <td>1</td>\n",
       "      <td>/r/Seattle/comments/ehnilr/what_the_heck_kind_...</td>\n",
       "      <td>-0.017500</td>\n",
       "      <td>0.532500</td>\n",
       "      <td>negative</td>\n",
       "      <td>That symptom is not pathognomonic for RSV by a...</td>\n",
       "    </tr>\n",
       "    <tr>\n",
       "      <td>0</td>\n",
       "      <td>1578086182</td>\n",
       "      <td>2131753984</td>\n",
       "      <td>murky_comparison</td>\n",
       "      <td>dogs</td>\n",
       "      <td>Not necessarily just curious! For vaccines wil...</td>\n",
       "      <td>3</td>\n",
       "      <td>/r/dogs/comments/ejl7r4/help_hi_rdogs_were_loo...</td>\n",
       "      <td>0.091875</td>\n",
       "      <td>0.745625</td>\n",
       "      <td>positive</td>\n",
       "      <td>Not necessarily just curious! For vaccines wil...</td>\n",
       "    </tr>\n",
       "  </tbody>\n",
       "</table>\n",
       "</div>"
      ],
      "text/plain": [
       "   created_utc        date            author subreddit  \\\n",
       "0   1577841828  1706125312            Jouhou     China   \n",
       "1   1577851876  -517347328   ImpracticalCats   VetTech   \n",
       "0   1577992294  2116844544  murky_comparison  puppy101   \n",
       "1   1577949412  1070327808          MyrkyCat   Seattle   \n",
       "0   1578086182  2131753984  murky_comparison      dogs   \n",
       "\n",
       "                                                body  score  \\\n",
       "0  Honestly, the the Chinese climate and the high...      1   \n",
       "1  This is interesting, I googled to try to figur...      1   \n",
       "0  Immunity, even if the dog has experienced a na...      8   \n",
       "1  That symptom is not pathognomonic for RSV by a...      1   \n",
       "0  Not necessarily just curious! For vaccines wil...      3   \n",
       "\n",
       "                                           permalink  sentiment_polarity  \\\n",
       "0  /r/China/comments/ehx3sw/an_unidentified_type_...            0.139493   \n",
       "1  /r/VetTech/comments/ei57ml/hello_anybody_here_...            0.056818   \n",
       "0  /r/puppy101/comments/ej2i1i/how_do_you_feel_ab...            0.227778   \n",
       "1  /r/Seattle/comments/ehnilr/what_the_heck_kind_...           -0.017500   \n",
       "0  /r/dogs/comments/ejl7r4/help_hi_rdogs_were_loo...            0.091875   \n",
       "\n",
       "   sentiment_subjectivity sentiment  \\\n",
       "0                0.478382  positive   \n",
       "1                0.586364  positive   \n",
       "0                0.370833  positive   \n",
       "1                0.532500  negative   \n",
       "0                0.745625  positive   \n",
       "\n",
       "                                             preview  \n",
       "0  Honestly, the the Chinese climate and the high...  \n",
       "1  This is interesting, I googled to try to figur...  \n",
       "0  Immunity, even if the dog has experienced a na...  \n",
       "1  That symptom is not pathognomonic for RSV by a...  \n",
       "0  Not necessarily just curious! For vaccines wil...  "
      ]
     },
     "execution_count": 24,
     "metadata": {},
     "output_type": "execute_result"
    }
   ],
   "source": [
    "#We are going to use the NLP library Textblob for our first approach into a Sentiment Analysis of our data.\n",
    "import textblob\n",
    "import textblob\n",
    "\n",
    "# create a column with sentiment polarity\n",
    "df_final[\"sentiment_polarity\"] = df_final.apply(lambda row: textblob.TextBlob(row[\"body\"]).sentiment.polarity, axis=1)\n",
    "\n",
    "# create a column with sentiment subjectivity\n",
    "df_final[\"sentiment_subjectivity\"] = df_final.apply(lambda row: textblob.TextBlob(row[\"body\"]).sentiment.subjectivity, axis=1)\n",
    "\n",
    "# create a column with 'positive' or 'negative' depending on sentiment_polarity\n",
    "df_final[\"sentiment\"] = df_final.apply(lambda row: \"positive\" if row[\"sentiment_polarity\"] >= 0 else \"negative\", axis=1)\n",
    "\n",
    "# create a column with a text preview that shows the first 50 characters\n",
    "df_final[\"preview\"] = df_final[\"body\"].str[0:50]\n",
    "df_final.head()"
   ]
  },
  {
   "cell_type": "code",
   "execution_count": 25,
   "metadata": {},
   "outputs": [],
   "source": [
    "df_final.to_csv(path_or_buf='covid19_comments.csv')"
   ]
  },
  {
   "cell_type": "code",
   "execution_count": 26,
   "metadata": {},
   "outputs": [
    {
     "name": "stdout",
     "output_type": "stream",
     "text": [
      "False\n"
     ]
    }
   ],
   "source": [
    "#check if there are any null values in our dataset\n",
    "print(pd.read_csv('covid19_comments.csv').isnull().values.any())"
   ]
  },
  {
   "cell_type": "code",
   "execution_count": 27,
   "metadata": {},
   "outputs": [
    {
     "data": {
      "text/plain": [
       "score\n",
       " 1      7899\n",
       " 2      4700\n",
       " 3      3384\n",
       " 4      2462\n",
       " 5      2436\n",
       "        ... \n",
       " 242       1\n",
       " 240       1\n",
       " 239       1\n",
       " 237       1\n",
       "-1         1\n",
       "Name: score, Length: 313, dtype: int64"
      ]
     },
     "execution_count": 27,
     "metadata": {},
     "output_type": "execute_result"
    }
   ],
   "source": [
    "df_final.groupby('score')['score'].count().sort_values(ascending=False)\n"
   ]
  },
  {
   "cell_type": "code",
   "execution_count": 28,
   "metadata": {},
   "outputs": [
    {
     "data": {
      "text/plain": [
       "score\n",
       "1      7900\n",
       "2      4700\n",
       "3      3384\n",
       "4      2462\n",
       "5      2436\n",
       "       ... \n",
       "242       1\n",
       "240       1\n",
       "239       1\n",
       "237       1\n",
       "0         1\n",
       "Name: score, Length: 312, dtype: int64"
      ]
     },
     "execution_count": 28,
     "metadata": {},
     "output_type": "execute_result"
    }
   ],
   "source": [
    "df_final['score'].replace(to_replace=-1, value=1, inplace=True)\n",
    "df_final.groupby('score')['score'].count().sort_values(ascending=False)"
   ]
  },
  {
   "cell_type": "code",
   "execution_count": 29,
   "metadata": {},
   "outputs": [
    {
     "data": {
      "text/plain": [
       "month\n",
       "12    20776\n",
       "1     20719\n",
       "Name: month, dtype: int64"
      ]
     },
     "execution_count": 29,
     "metadata": {},
     "output_type": "execute_result"
    }
   ],
   "source": [
    "#split the comments we retrieved from Reddit for each month they were created.\n",
    "#First, we can see below these lines the distribution of comments from the first month of 2020 until now.\n",
    "\n",
    "df_final['month'] = pd.DatetimeIndex(df_final['date']).month\n",
    "df_final.groupby('month')['month'].count().sort_values(ascending=False)"
   ]
  },
  {
   "cell_type": "code",
   "execution_count": 30,
   "metadata": {},
   "outputs": [
    {
     "data": {
      "image/png": "[encoded data removed]",
      "text/plain": [
       "<Figure size 432x288 with 1 Axes>"
      ]
     },
     "metadata": {
      "needs_background": "light"
     },
     "output_type": "display_data"
    }
   ],
   "source": [
    "#Let's use K-means clustering to clasify the comments in different clusters.\n",
    "#First we are going to use the Elbow Method to determine the best value for k.\n",
    "df_km = pd.DataFrame(df_final['score'])\n",
    "df_km['sentiment_polarity'] = df_final['sentiment_polarity']\n",
    "\n",
    "# ELBOW METHOD\n",
    "\n",
    "# calculate distortion for a range of number of cluster\n",
    "distortions = []\n",
    "for i in range(1, 11):\n",
    "    km = KMeans(\n",
    "        n_clusters=i, init='random',\n",
    "        n_init=10, max_iter=300,\n",
    "        tol=1e-04, random_state=0\n",
    "    )\n",
    "    km.fit(df_km)\n",
    "    distortions.append(km.inertia_)\n",
    "\n",
    "# plot\n",
    "plt.plot(range(1, 11), distortions, marker='o')\n",
    "plt.xlabel('Number of clusters')\n",
    "plt.ylabel('Distortion')\n",
    "plt.show()"
   ]
  },
  {
   "cell_type": "code",
   "execution_count": 31,
   "metadata": {},
   "outputs": [
    {
     "data": {
      "text/html": [
       "<div>\n",
       "<style scoped>\n",
       "    .dataframe tbody tr th:only-of-type {\n",
       "        vertical-align: middle;\n",
       "    }\n",
       "\n",
       "    .dataframe tbody tr th {\n",
       "        vertical-align: top;\n",
       "    }\n",
       "\n",
       "    .dataframe thead th {\n",
       "        text-align: right;\n",
       "    }\n",
       "</style>\n",
       "<table border=\"1\" class=\"dataframe\">\n",
       "  <thead>\n",
       "    <tr style=\"text-align: right;\">\n",
       "      <th></th>\n",
       "      <th>score</th>\n",
       "      <th>sentiment_polarity</th>\n",
       "      <th>Cluster</th>\n",
       "    </tr>\n",
       "  </thead>\n",
       "  <tbody>\n",
       "    <tr>\n",
       "      <td>0</td>\n",
       "      <td>1</td>\n",
       "      <td>0.139493</td>\n",
       "      <td>2</td>\n",
       "    </tr>\n",
       "    <tr>\n",
       "      <td>1</td>\n",
       "      <td>1</td>\n",
       "      <td>0.056818</td>\n",
       "      <td>2</td>\n",
       "    </tr>\n",
       "    <tr>\n",
       "      <td>0</td>\n",
       "      <td>8</td>\n",
       "      <td>0.227778</td>\n",
       "      <td>2</td>\n",
       "    </tr>\n",
       "    <tr>\n",
       "      <td>1</td>\n",
       "      <td>1</td>\n",
       "      <td>-0.017500</td>\n",
       "      <td>2</td>\n",
       "    </tr>\n",
       "    <tr>\n",
       "      <td>0</td>\n",
       "      <td>3</td>\n",
       "      <td>0.091875</td>\n",
       "      <td>2</td>\n",
       "    </tr>\n",
       "  </tbody>\n",
       "</table>\n",
       "</div>"
      ],
      "text/plain": [
       "   score  sentiment_polarity  Cluster\n",
       "0      1            0.139493        2\n",
       "1      1            0.056818        2\n",
       "0      8            0.227778        2\n",
       "1      1           -0.017500        2\n",
       "0      3            0.091875        2"
      ]
     },
     "execution_count": 31,
     "metadata": {},
     "output_type": "execute_result"
    }
   ],
   "source": [
    "kclusters = 4\n",
    "\n",
    "km = KMeans(n_clusters=kclusters, init='random',n_init=10, max_iter=300, \n",
    "    tol=1e-04, random_state=0).fit(df_km)\n",
    "\n",
    "km_labels = km.labels_\n",
    "\n",
    "# Let's change label numbers so they go from highest scores to lowest\n",
    "\n",
    "replace_labels = {0:2, 1:0, 2:3, 3:1}\n",
    "\n",
    "for i in range(len(km_labels)):\n",
    "    km_labels[i] = replace_labels[km_labels[i]]\n",
    "    \n",
    "df_km['Cluster'] = km_labels\n",
    "df_km.head()"
   ]
  },
  {
   "cell_type": "code",
   "execution_count": 32,
   "metadata": {},
   "outputs": [
    {
     "data": {
      "image/png": "[encoded data removed]",
      "text/plain": [
       "<Figure size 1440x720 with 4 Axes>"
      ]
     },
     "metadata": {
      "needs_background": "light"
     },
     "output_type": "display_data"
    }
   ],
   "source": [
    "import matplotlib.ticker as ticker\n",
    "\n",
    "fig, axes = plt.subplots(1, kclusters, figsize=(20, 10), sharey=True)\n",
    "\n",
    "axes[0].set_ylabel('Score & Sentiment Polarity', fontsize=25)\n",
    "\n",
    "for k in range(kclusters):\n",
    "    # We are going to set same y axis limits\n",
    "    axes[k].set_ylim(-1,500)\n",
    "    axes[k].xaxis.set_label_position('top')\n",
    "    axes[k].set_xlabel('Cluster ' + str(k), fontsize=25)\n",
    "    axes[k].tick_params(labelsize=20)\n",
    "    plt.sca(axes[k])\n",
    "    plt.xticks(rotation='vertical')\n",
    "    sns.boxplot(data = df_km[df_km['Cluster'] == k].drop('Cluster',1), ax=axes[k])\n",
    "\n",
    "plt.show()"
   ]
  },
  {
   "cell_type": "code",
   "execution_count": 33,
   "metadata": {},
   "outputs": [
    {
     "data": {
      "application/vnd.plotly.v1+json": {
       "config": {
        "plotlyServerURL": "https://plot.ly"
       },
       "data": [
        {
         "customdata": [
          [
           "munnmuun",
           "/r/mildlyinteresting/comments/eucakq/this_deformed_corona_extra_bottle_from_mexico/ffox6y6/",
           "Don't drink corona you will get the coronavirus lo"
          ],
          [
           "biotuner",
           "/r/worldnews/comments/f0vrke/10_wuhan_professors_signed_an_open_letter/fh0c1rl/",
           "Their actions have nothing to do with the severity"
          ],
          [
           "TrumpIsABigFatLiar",
           "/r/worldnews/comments/f1iiiq/coronavirus_live_updates_china_says_death_toll/fh6puea/",
           "[Their labs are overloaded](https://www.nytimes.co"
          ],
          [
           "JDburn08",
           "/r/australia/comments/ff1s6o/inaccuracies_and_unfairness_infected_gp_demands/fjungvl/",
           "* doctor gets cold symptoms but doesn’t meet the c"
          ],
          [
           "beachhike",
           "/r/worldnews/comments/ff2wfp/coronavirus_outbreak_causes_decline_in_china/fjvaegp/",
           "Coronavirus: Mother Earth strikes back"
          ],
          [
           "alou404",
           "/r/therewasanattempt/comments/ff5maz/to_give_kids_homework/fjw8x3b/",
           "Now we should all rate the coronavirus 1 star so t"
          ],
          [
           "markb4587",
           "/r/worldnews/comments/ff3kbt/iran_coronavirus_kills_the_butcher_of_tehran/fjvd3y3/",
           "Coronavirus singlehandedly killing terrorists and "
          ],
          [
           "slightly_chronocidal",
           "/r/WhitePeopleTwitter/comments/ff31wc/down_not_out/fjvuihw/",
           "[looks like it!](https://mashable.com/article/wuha"
          ],
          [
           "misogichan",
           "/r/AskReddit/comments/fezt5a/what_is_some_uplifting_news_about_the_covid19/fjw2gae/",
           "I don't think that's going to be rare either.  [Ch"
          ],
          [
           "Helkafen1",
           "/r/worldnews/comments/ff2wfp/coronavirus_outbreak_causes_decline_in_china/fjvyg8g/",
           "The coronavirus shows how much we are willing to d"
          ],
          [
           "StrangeItIs2BNEThing",
           "/r/Coronavirus/comments/fg2x77/breaking_usa_trump_to_speak_at_emergency/fk24ho7/",
           "The POTUS is generally an unreliable source. If po"
          ],
          [
           "flae99",
           "/r/soccer/comments/fh5arr/official_daniele_rugani_has_coronavirus/fk8x47k/",
           "Ronaldo's immune system must be in such excellent "
          ],
          [
           "kungfuhrer666",
           "/r/soccer/comments/fh5arr/official_daniele_rugani_has_coronavirus/fk8wkcu/",
           "And the season is most definitely over. Wonder how"
          ],
          [
           "lunch77",
           "/r/MMA/comments/fh6l5y/dana_just_posted_this_on_his_instagram_story/fk97zdf/",
           "Wouldn’t it be crazy if Coronavirus actually resul"
          ],
          [
           "SpoatieOpie",
           "/r/trashy/comments/fhj0kq/utah_jazz_star_mocks_the_coronavirus_and_touches/fkbu1j6/",
           "His teammate donovan mitchell has now tested posit"
          ],
          [
           "KatanaAmerica",
           "/r/nba/comments/fh80su/video_of_gobert_touching_all_the_mics/fk9id2r/",
           "WELP! He ACTUALLY HAS Coronavirus\n\nhttps://twitter"
          ],
          [
           "Nowitzki_41",
           "/r/worldnews/comments/fh80mi/trump_suspends_travel_from_europe_for_30_days_as/fk9ha31/",
           "i think he said americans would be allowed back, w"
          ],
          [
           "ShoveYourHeadUpMyAss",
           "/r/nba/comments/fh8e8c/charania_the_nba_has_suspended_its_season/fk9j8tw/",
           "Can’t wait to use the coronavirus historic team in"
          ],
          [
           "BeetsBy_Schrute",
           "/r/worldnews/comments/fh80mi/trump_suspends_travel_from_europe_for_30_days_as/fk9n723/",
           "Hard to believe that two months ago, we thought we"
          ],
          [
           "johqui1092",
           "/r/nba/comments/fh7n8g/highlight_chilling_announcement_at_the/fk9d3m5/",
           "\"Please drive safely on your way home! You probabl"
          ],
          [
           "Joe_Rogan_is_bae",
           "/r/Coronavirus/comments/fh870p/actor_tom_hanks_says_he_and_his_wife_have_tested/fk9lv5l/",
           "Tom. We know Coronavirus is far more deadly to smo"
          ],
          [
           "rakodon",
           "/r/sports/comments/fh8fn9/the_nba_has_suspended_the_season/fk9md96/",
           "1920: Spanish Flu\n\n2020: Coronavirus\n\nWonder what "
          ],
          [
           "RoosDePoes",
           "/r/worldnews/comments/fh80mi/trump_suspends_travel_from_europe_for_30_days_as/fk9h7cv/",
           "That speech he gave was pure propaganda... He clai"
          ],
          [
           "Vindve",
           "/r/worldnews/comments/fh80mi/trump_suspends_travel_from_europe_for_30_days_as/fk9kz6z/",
           "&gt; Calling coronavirus a \"foreign virus,\" Trump "
          ],
          [
           "never_dude84",
           "/r/soccer/comments/fh7ljn/daniele_rugani_yes_ive_the_coronavirus_but_dont/fk9ct3h/",
           "Coronavirus has no colours. Respect from a leprosy"
          ],
          [
           "Warfrogger",
           "/r/AskReddit/comments/fhkcw8/what_are_we_all_missing_right_now_because_it_gets/fkcueg4/",
           "My boss, a 67 year old practicing physician, came "
          ],
          [
           "Peregrine2976",
           "/r/AskReddit/comments/fhnzqi/how_do_you_think_the_world_would_react_if_a_major/fkct5xh/",
           "If Trump dies of COVID-19, Alex Jones's head will "
          ],
          [
           "theRichgetRicherish",
           "/r/television/comments/fjprai/idris_elba_confirms_he_tested_positive_for_covid19/fkod4km/",
           "I am aware of the effect I have on coronavirus"
          ],
          [
           "100viewsandviral",
           "/r/nba/comments/fkdf0l/charania_kevin_durant_tested_positive_for/fks83z9/",
           "The coronavirus did not target Rudy Gobert. Rudy G"
          ],
          [
           "22MapleJordan22",
           "/r/nba/comments/fkdf0l/charania_kevin_durant_tested_positive_for/fks1s3c/",
           "The coronavirus only infects all stars whether it’"
          ],
          [
           "criesingucci",
           "/r/insanepeoplefacebook/comments/fkud0f/disgusting_double_standards/fkv8ngc/",
           "Between parasite winning best picture and coronavi"
          ],
          [
           "TannedCroissant",
           "/r/AskReddit/comments/fkqarp/serious_what_other_things_are_happening_in_the/fkv8stw/",
           "[And also dolphins spotted in the Venice canals!]("
          ],
          [
           "earlyviolet",
           "/r/YouShouldKnow/comments/fkgiqb/ysk_that_your_local_fire_department_and_ems/fksqw1i/",
           "I'm a nurse and pretty much all hospitals are in t"
          ],
          [
           "Arisal1122",
           "/r/WhitePeopleTwitter/comments/fkv62r/jeff_bezos_is_a_dickheadshaped_dick_head_part_342/fkvvb02/",
           "Okay, let me give you the REAL news as someone who"
          ],
          [
           "dovetc",
           "/r/videos/comments/fljjp1/this_is_what_coronavirus_looks_like_in_an_italian/fkz0bh7/",
           "Italy is basically the worst country in the world "
          ],
          [
           "ParkingLack",
           "/r/AdviceAnimals/comments/fllar5/stay_inside_damn_it/fkzfrot/",
           "Young people care about coronavirus as much as boo"
          ],
          [
           "Muuvie",
           "/r/news/comments/fogtdz/waffle_house_closes_365_locations_across_the_us/flf9lv6/",
           "There was another post on AskReddit not too long a"
          ],
          [
           "rhabdomyomatosis",
           "/r/science/comments/fxe14a/cats_may_be_susceptible_to_covid19_according_to_a/fmu08mn/",
           "I've been waiting for this to hit the mainstream -"
          ],
          [
           "electronicbody",
           "/r/insaneparents/comments/fxjity/update_im_immunocompromised_and_my_mom_refused_to/fmv7wfl/",
           "You know damn well they will. If that were me i'd "
          ]
         ],
         "hovertemplate": "sentiment=positive<br>Date comment was posted=%{x}<br>Comment positivity=%{y}<br>score=%{marker.size}<br>author=%{customdata[0]}<br>permalink=%{customdata[1]}<br>preview=%{customdata[2]}<extra></extra>",
         "legendgroup": "positive",
         "marker": {
          "color": "green",
          "size": [
           706,
           850,
           529,
           759,
           601,
           979,
           932,
           875,
           581,
           509,
           545,
           1822,
           1698,
           420,
           1435,
           1140,
           734,
           704,
           616,
           553,
           514,
           500,
           500,
           447,
           433,
           815,
           515,
           666,
           559,
           449,
           1493,
           851,
           547,
           858,
           509,
           660,
           663,
           1418,
           550
          ],
          "sizemode": "area",
          "sizeref": 0.7288,
          "symbol": "circle"
         },
         "mode": "markers",
         "name": "positive",
         "showlegend": true,
         "type": "scatter",
         "x": [
          720745472,
          639029248,
          -1617590272,
          -1918368256,
          1040753152,
          700819968,
          -1111136256,
          1654580224,
          753417728,
          -677178368,
          661049344,
          -1102556672,
          -749813248,
          -1301411328,
          -2123895808,
          319864832,
          -1909877248,
          283527680,
          80402944,
          -1368453120,
          -1710385664,
          -1178227200,
          334763008,
          1800787968,
          1430238720,
          -1025146880,
          -866262528,
          1872693248,
          135150592,
          886240256,
          -925704704,
          -530083328,
          -888376320,
          -1475303424,
          382809600,
          288879104,
          -722606592,
          1511557632,
          -1163130368
         ],
         "xaxis": "x",
         "y": [
          0.8,
          0.05,
          0,
          0.14747474747474745,
          0,
          0,
          0,
          0.8,
          0.18125,
          0.08750000000000001,
          0.05833333333333334,
          0.5,
          0.35000000000000003,
          0.1,
          0.03409090909090909,
          0,
          0,
          0,
          0.10208333333333332,
          0.625,
          0.034374999999999996,
          0,
          0.37142857142857144,
          0.05883520074696544,
          0,
          0.19166666666666665,
          0,
          0.25,
          0,
          0,
          0.75,
          0,
          0.2111111111111111,
          0.05207537560478737,
          0.022272727272727267,
          0.17142857142857146,
          0.11666666666666668,
          0.04122807017543859,
          0.08713541666666666
         ],
         "yaxis": "y"
        },
        {
         "hovertemplate": "<b>LOWESS trendline</b><br><br>sentiment=positive<br>Date comment was posted=%{x}<br>Comment positivity=%{y} <b>(trend)</b><extra></extra>",
         "legendgroup": "positive",
         "marker": {
          "color": "green",
          "symbol": "circle"
         },
         "mode": "lines",
         "name": "positive",
         "showlegend": false,
         "type": "scatter",
         "x": [
          -2123895808,
          -1918368256,
          -1909877248,
          -1710385664,
          -1617590272,
          -1475303424,
          -1368453120,
          -1301411328,
          -1178227200,
          -1163130368,
          -1111136256,
          -1102556672,
          -1025146880,
          -925704704,
          -888376320,
          -866262528,
          -749813248,
          -722606592,
          -677178368,
          -530083328,
          80402944,
          135150592,
          283527680,
          288879104,
          319864832,
          334763008,
          382809600,
          639029248,
          661049344,
          700819968,
          720745472,
          753417728,
          886240256,
          1040753152,
          1430238720,
          1511557632,
          1654580224,
          1800787968,
          1872693248
         ],
         "xaxis": "x",
         "y": [
          0.03140956957634754,
          0.041491334214567695,
          0.04191312718913582,
          0.05186455538419024,
          0.05645358745725202,
          0.06332967578000469,
          0.06832686191155084,
          0.07138227049264248,
          0.07684366813983234,
          0.07750096168263014,
          0.07975274904106845,
          0.08012348736881882,
          0.08349450580019538,
          0.08801779784314859,
          0.08934299839180858,
          0.08901931782673948,
          0.09070277890019825,
          0.08884237050415754,
          0.08617733277880447,
          0.08469245239059164,
          0.06756545452337752,
          0.06541957212294237,
          0.05953879734589155,
          0.059356452389569755,
          0.05829368610301057,
          0.05777998093168572,
          0.055802708560671425,
          0.05049577804221339,
          0.050674180313014294,
          0.05118438420436654,
          0.05151204326416248,
          0.05212881043148451,
          0.0552335531071699,
          0.059257568700481655,
          0.06920524814288492,
          0.07122999271234409,
          0.07484710643335588,
          0.07875909826110096,
          0.08080927002616195
         ],
         "yaxis": "y"
        },
        {
         "customdata": [
          [
           "yerich",
           "/r/worldnews/comments/ev6zmb/japan_and_germany_confirm_patients_who_caught/ffubbpr/",
           "[From another article](https://www.dw.com/en/germa"
          ],
          [
           "RimRunningRagged",
           "/r/nba/comments/ff3kwk/murdock_warriors_release_a_statement_on_stephen/fjv7m27/",
           "I know this is serious business with the Coronavir"
          ],
          [
           "GunnersaurusDen",
           "/r/soccer/comments/fh5arr/official_daniele_rugani_has_coronavirus/fk8wmki/",
           "Holy shit Ronaldo might have coronavirus"
          ],
          [
           "Qwikskoupa69",
           "/r/soccer/comments/fh5arr/official_daniele_rugani_has_coronavirus/fk8y9bt/",
           "*Breaking: Coronavirus has disappeared after Reddi"
          ],
          [
           "Saxophone-Life",
           "/r/memes/comments/fh5cjq/the_trickster/fk95xbc/",
           "both a [$3200 cost](https://www.politifact.com/fac"
          ],
          [
           "logicatch",
           "/r/nba/comments/fh8bqd/charania_utah_jazz_allstar_rudy_gobert_has_tested/fk9iaw5/",
           "In just the last 30 minutes Trump just banned trav"
          ],
          [
           "oddible",
           "/r/worldnews/comments/fh80mi/trump_suspends_travel_from_europe_for_30_days_as/fk9k6im/",
           "Crazy is spending nearly $20 billion from the Emer"
          ],
          [
           "ShamusJohnson13",
           "/r/worldnews/comments/fh80mi/trump_suspends_travel_from_europe_for_30_days_as/fk9ga1n/",
           "Europe : *has Coronavirus*\n\nTrump: \"Fuck you!\"\n\nBr"
          ],
          [
           "amiatthetop2",
           "/r/worldnews/comments/fh80mi/trump_suspends_travel_from_europe_for_30_days_as/fk9j3ni/",
           "Tom Hanks and his wife just tweeted that they are "
          ],
          [
           "Hisoka_Brando",
           "/r/nba/comments/fh8bqd/charania_utah_jazz_allstar_rudy_gobert_has_tested/fk9icpt/",
           "He touched every mic to mock the coronavirus, the "
          ],
          [
           "lostboy005",
           "/r/worldnews/comments/fh80mi/trump_suspends_travel_from_europe_for_30_days_as/fk9n144/",
           "&gt; TOM FUCKING HANKS has coronavirus\n\nholy fuck "
          ],
          [
           "Jbaquero",
           "/r/baseball/comments/fh8hrk/charania_the_nba_has_suspended_its_season/fk9jesk/",
           "Rudy Gobert needs to be severely punished or banne"
          ],
          [
           "ForCaste",
           "/r/nba/comments/fh8e8c/charania_the_nba_has_suspended_its_season/fk9k58h/",
           "\"Gobert watch out! Coronavirus is right behind you"
          ],
          [
           "Nihilistic_Response",
           "/r/Coronavirus/comments/fh85cs/megathread_president_trump_announces_30day_travel/fk9h9nf/",
           "Tom Hanks has caught coronavirus while in Australi"
          ],
          [
           "edgarpickle",
           "/r/AskReddit/comments/fkzaca/what_is_something_that_has_aged_well/fkvutra/",
           "Weird Al. \n\nCelebrity after celebrity comes out wi"
          ],
          [
           "MemoryAccessRegister",
           "/r/AskReddit/comments/fnszg7/serious_when_did_covid19_get_real_for_you/flc0zwl/",
           "&gt;This is starting to sound like the factory con"
          ],
          [
           "the1whogotaway101",
           "/r/nottheonion/comments/fofy87/person_who_attended_caronavirus_party_just_tested/flf0x28/",
           "As someone who lives in Kentucky, can confirm. Hal"
          ]
         ],
         "hovertemplate": "sentiment=negative<br>Date comment was posted=%{x}<br>Comment positivity=%{y}<br>score=%{marker.size}<br>author=%{customdata[0]}<br>permalink=%{customdata[1]}<br>preview=%{customdata[2]}<extra></extra>",
         "legendgroup": "negative",
         "marker": {
          "color": "red",
          "size": [
           589,
           432,
           1091,
           490,
           414,
           1608,
           1516,
           1334,
           930,
           920,
           561,
           514,
           442,
           398,
           1239,
           625,
           664
          ],
          "sizemode": "area",
          "sizeref": 0.7288,
          "symbol": "circle"
         },
         "mode": "markers",
         "name": "negative",
         "showlegend": true,
         "type": "scatter",
         "x": [
          1314695680,
          98983424,
          1185415680,
          -1218108928,
          -235731968,
          -320396800,
          -1112547840,
          -1679226880,
          887906304,
          -1385167872,
          1864650752,
          1089214464,
          362288640,
          -319942656,
          877440000,
          1938357248,
          1029845504
         ],
         "xaxis": "x",
         "y": [
          -0.011904761904761902,
          -0.1277777777777778,
          -0.2,
          -0.4,
          -0.4000000000000001,
          -0.05000000000000001,
          -0.16666666666666666,
          -0.07500000000000001,
          -0.25,
          -0.8,
          -0.3125,
          -0.07424242424242422,
          -0.10714285714285715,
          -0.75,
          -0.5,
          -0.06499999999999999,
          -0.48333333333333334
         ],
         "yaxis": "y"
        },
        {
         "hovertemplate": "<b>LOWESS trendline</b><br><br>sentiment=negative<br>Date comment was posted=%{x}<br>Comment positivity=%{y} <b>(trend)</b><extra></extra>",
         "legendgroup": "negative",
         "marker": {
          "color": "red",
          "symbol": "circle"
         },
         "mode": "lines",
         "name": "negative",
         "showlegend": false,
         "type": "scatter",
         "x": [
          -1679226880,
          -1385167872,
          -1218108928,
          -1112547840,
          -320396800,
          -319942656,
          -235731968,
          98983424,
          362288640,
          877440000,
          887906304,
          1029845504,
          1089214464,
          1185415680,
          1314695680,
          1864650752,
          1938357248
         ],
         "xaxis": "x",
         "y": [
          -0.3142591936736237,
          -0.31429171157383035,
          -0.31378894663657886,
          -0.31344009263851885,
          -0.2746060931522152,
          -0.274544585018974,
          -0.26663222018495847,
          -0.26534009882134396,
          -0.24533056363913636,
          -0.2331432461647596,
          -0.2329462091134101,
          -0.22883947367003335,
          -0.2263948161001614,
          -0.2213963482083789,
          -0.21263215990224651,
          -0.1611190667021723,
          -0.15386229277845315
         ],
         "yaxis": "y"
        }
       ],
       "layout": {
        "autosize": false,
        "height": 800,
        "legend": {
         "itemsizing": "constant",
         "title": {
          "text": "sentiment"
         },
         "tracegroupgap": 0
        },
        "plot_bgcolor": "white",
        "template": {
         "data": {
          "bar": [
           {
            "error_x": {
             "color": "#2a3f5f"
            },
            "error_y": {
             "color": "#2a3f5f"
            },
            "marker": {
             "line": {
              "color": "#E5ECF6",
              "width": 0.5
             }
            },
            "type": "bar"
           }
          ],
          "barpolar": [
           {
            "marker": {
             "line": {
              "color": "#E5ECF6",
              "width": 0.5
             }
            },
            "type": "barpolar"
           }
          ],
          "carpet": [
           {
            "aaxis": {
             "endlinecolor": "#2a3f5f",
             "gridcolor": "white",
             "linecolor": "white",
             "minorgridcolor": "white",
             "startlinecolor": "#2a3f5f"
            },
            "baxis": {
             "endlinecolor": "#2a3f5f",
             "gridcolor": "white",
             "linecolor": "white",
             "minorgridcolor": "white",
             "startlinecolor": "#2a3f5f"
            },
            "type": "carpet"
           }
          ],
          "choropleth": [
           {
            "colorbar": {
             "outlinewidth": 0,
             "ticks": ""
            },
            "type": "choropleth"
           }
          ],
          "contour": [
           {
            "colorbar": {
             "outlinewidth": 0,
             "ticks": ""
            },
            "colorscale": [
             [
              0,
              "#0d0887"
             ],
             [
              0.1111111111111111,
              "#46039f"
             ],
             [
              0.2222222222222222,
              "#7201a8"
             ],
             [
              0.3333333333333333,
              "#9c179e"
             ],
             [
              0.4444444444444444,
              "#bd3786"
             ],
             [
              0.5555555555555556,
              "#d8576b"
             ],
             [
              0.6666666666666666,
              "#ed7953"
             ],
             [
              0.7777777777777778,
              "#fb9f3a"
             ],
             [
              0.8888888888888888,
              "#fdca26"
             ],
             [
              1,
              "#f0f921"
             ]
            ],
            "type": "contour"
           }
          ],
          "contourcarpet": [
           {
            "colorbar": {
             "outlinewidth": 0,
             "ticks": ""
            },
            "type": "contourcarpet"
           }
          ],
          "heatmap": [
           {
            "colorbar": {
             "outlinewidth": 0,
             "ticks": ""
            },
            "colorscale": [
             [
              0,
              "#0d0887"
             ],
             [
              0.1111111111111111,
              "#46039f"
             ],
             [
              0.2222222222222222,
              "#7201a8"
             ],
             [
              0.3333333333333333,
              "#9c179e"
             ],
             [
              0.4444444444444444,
              "#bd3786"
             ],
             [
              0.5555555555555556,
              "#d8576b"
             ],
             [
              0.6666666666666666,
              "#ed7953"
             ],
             [
              0.7777777777777778,
              "#fb9f3a"
             ],
             [
              0.8888888888888888,
              "#fdca26"
             ],
             [
              1,
              "#f0f921"
             ]
            ],
            "type": "heatmap"
           }
          ],
          "heatmapgl": [
           {
            "colorbar": {
             "outlinewidth": 0,
             "ticks": ""
            },
            "colorscale": [
             [
              0,
              "#0d0887"
             ],
             [
              0.1111111111111111,
              "#46039f"
             ],
             [
              0.2222222222222222,
              "#7201a8"
             ],
             [
              0.3333333333333333,
              "#9c179e"
             ],
             [
              0.4444444444444444,
              "#bd3786"
             ],
             [
              0.5555555555555556,
              "#d8576b"
             ],
             [
              0.6666666666666666,
              "#ed7953"
             ],
             [
              0.7777777777777778,
              "#fb9f3a"
             ],
             [
              0.8888888888888888,
              "#fdca26"
             ],
             [
              1,
              "#f0f921"
             ]
            ],
            "type": "heatmapgl"
           }
          ],
          "histogram": [
           {
            "marker": {
             "colorbar": {
              "outlinewidth": 0,
              "ticks": ""
             }
            },
            "type": "histogram"
           }
          ],
          "histogram2d": [
           {
            "colorbar": {
             "outlinewidth": 0,
             "ticks": ""
            },
            "colorscale": [
             [
              0,
              "#0d0887"
             ],
             [
              0.1111111111111111,
              "#46039f"
             ],
             [
              0.2222222222222222,
              "#7201a8"
             ],
             [
              0.3333333333333333,
              "#9c179e"
             ],
             [
              0.4444444444444444,
              "#bd3786"
             ],
             [
              0.5555555555555556,
              "#d8576b"
             ],
             [
              0.6666666666666666,
              "#ed7953"
             ],
             [
              0.7777777777777778,
              "#fb9f3a"
             ],
             [
              0.8888888888888888,
              "#fdca26"
             ],
             [
              1,
              "#f0f921"
             ]
            ],
            "type": "histogram2d"
           }
          ],
          "histogram2dcontour": [
           {
            "colorbar": {
             "outlinewidth": 0,
             "ticks": ""
            },
            "colorscale": [
             [
              0,
              "#0d0887"
             ],
             [
              0.1111111111111111,
              "#46039f"
             ],
             [
              0.2222222222222222,
              "#7201a8"
             ],
             [
              0.3333333333333333,
              "#9c179e"
             ],
             [
              0.4444444444444444,
              "#bd3786"
             ],
             [
              0.5555555555555556,
              "#d8576b"
             ],
             [
              0.6666666666666666,
              "#ed7953"
             ],
             [
              0.7777777777777778,
              "#fb9f3a"
             ],
             [
              0.8888888888888888,
              "#fdca26"
             ],
             [
              1,
              "#f0f921"
             ]
            ],
            "type": "histogram2dcontour"
           }
          ],
          "mesh3d": [
           {
            "colorbar": {
             "outlinewidth": 0,
             "ticks": ""
            },
            "type": "mesh3d"
           }
          ],
          "parcoords": [
           {
            "line": {
             "colorbar": {
              "outlinewidth": 0,
              "ticks": ""
             }
            },
            "type": "parcoords"
           }
          ],
          "pie": [
           {
            "automargin": true,
            "type": "pie"
           }
          ],
          "scatter": [
           {
            "marker": {
             "colorbar": {
              "outlinewidth": 0,
              "ticks": ""
             }
            },
            "type": "scatter"
           }
          ],
          "scatter3d": [
           {
            "line": {
             "colorbar": {
              "outlinewidth": 0,
              "ticks": ""
             }
            },
            "marker": {
             "colorbar": {
              "outlinewidth": 0,
              "ticks": ""
             }
            },
            "type": "scatter3d"
           }
          ],
          "scattercarpet": [
           {
            "marker": {
             "colorbar": {
              "outlinewidth": 0,
              "ticks": ""
             }
            },
            "type": "scattercarpet"
           }
          ],
          "scattergeo": [
           {
            "marker": {
             "colorbar": {
              "outlinewidth": 0,
              "ticks": ""
             }
            },
            "type": "scattergeo"
           }
          ],
          "scattergl": [
           {
            "marker": {
             "colorbar": {
              "outlinewidth": 0,
              "ticks": ""
             }
            },
            "type": "scattergl"
           }
          ],
          "scattermapbox": [
           {
            "marker": {
             "colorbar": {
              "outlinewidth": 0,
              "ticks": ""
             }
            },
            "type": "scattermapbox"
           }
          ],
          "scatterpolar": [
           {
            "marker": {
             "colorbar": {
              "outlinewidth": 0,
              "ticks": ""
             }
            },
            "type": "scatterpolar"
           }
          ],
          "scatterpolargl": [
           {
            "marker": {
             "colorbar": {
              "outlinewidth": 0,
              "ticks": ""
             }
            },
            "type": "scatterpolargl"
           }
          ],
          "scatterternary": [
           {
            "marker": {
             "colorbar": {
              "outlinewidth": 0,
              "ticks": ""
             }
            },
            "type": "scatterternary"
           }
          ],
          "surface": [
           {
            "colorbar": {
             "outlinewidth": 0,
             "ticks": ""
            },
            "colorscale": [
             [
              0,
              "#0d0887"
             ],
             [
              0.1111111111111111,
              "#46039f"
             ],
             [
              0.2222222222222222,
              "#7201a8"
             ],
             [
              0.3333333333333333,
              "#9c179e"
             ],
             [
              0.4444444444444444,
              "#bd3786"
             ],
             [
              0.5555555555555556,
              "#d8576b"
             ],
             [
              0.6666666666666666,
              "#ed7953"
             ],
             [
              0.7777777777777778,
              "#fb9f3a"
             ],
             [
              0.8888888888888888,
              "#fdca26"
             ],
             [
              1,
              "#f0f921"
             ]
            ],
            "type": "surface"
           }
          ],
          "table": [
           {
            "cells": {
             "fill": {
              "color": "#EBF0F8"
             },
             "line": {
              "color": "white"
             }
            },
            "header": {
             "fill": {
              "color": "#C8D4E3"
             },
             "line": {
              "color": "white"
             }
            },
            "type": "table"
           }
          ]
         },
         "layout": {
          "annotationdefaults": {
           "arrowcolor": "#2a3f5f",
           "arrowhead": 0,
           "arrowwidth": 1
          },
          "coloraxis": {
           "colorbar": {
            "outlinewidth": 0,
            "ticks": ""
           }
          },
          "colorscale": {
           "diverging": [
            [
             0,
             "#8e0152"
            ],
            [
             0.1,
             "#c51b7d"
            ],
            [
             0.2,
             "#de77ae"
            ],
            [
             0.3,
             "#f1b6da"
            ],
            [
             0.4,
             "#fde0ef"
            ],
            [
             0.5,
             "#f7f7f7"
            ],
            [
             0.6,
             "#e6f5d0"
            ],
            [
             0.7,
             "#b8e186"
            ],
            [
             0.8,
             "#7fbc41"
            ],
            [
             0.9,
             "#4d9221"
            ],
            [
             1,
             "#276419"
            ]
           ],
           "sequential": [
            [
             0,
             "#0d0887"
            ],
            [
             0.1111111111111111,
             "#46039f"
            ],
            [
             0.2222222222222222,
             "#7201a8"
            ],
            [
             0.3333333333333333,
             "#9c179e"
            ],
            [
             0.4444444444444444,
             "#bd3786"
            ],
            [
             0.5555555555555556,
             "#d8576b"
            ],
            [
             0.6666666666666666,
             "#ed7953"
            ],
            [
             0.7777777777777778,
             "#fb9f3a"
            ],
            [
             0.8888888888888888,
             "#fdca26"
            ],
            [
             1,
             "#f0f921"
            ]
           ],
           "sequentialminus": [
            [
             0,
             "#0d0887"
            ],
            [
             0.1111111111111111,
             "#46039f"
            ],
            [
             0.2222222222222222,
             "#7201a8"
            ],
            [
             0.3333333333333333,
             "#9c179e"
            ],
            [
             0.4444444444444444,
             "#bd3786"
            ],
            [
             0.5555555555555556,
             "#d8576b"
            ],
            [
             0.6666666666666666,
             "#ed7953"
            ],
            [
             0.7777777777777778,
             "#fb9f3a"
            ],
            [
             0.8888888888888888,
             "#fdca26"
            ],
            [
             1,
             "#f0f921"
            ]
           ]
          },
          "colorway": [
           "#636efa",
           "#EF553B",
           "#00cc96",
           "#ab63fa",
           "#FFA15A",
           "#19d3f3",
           "#FF6692",
           "#B6E880",
           "#FF97FF",
           "#FECB52"
          ],
          "font": {
           "color": "#2a3f5f"
          },
          "geo": {
           "bgcolor": "white",
           "lakecolor": "white",
           "landcolor": "#E5ECF6",
           "showlakes": true,
           "showland": true,
           "subunitcolor": "white"
          },
          "hoverlabel": {
           "align": "left"
          },
          "hovermode": "closest",
          "mapbox": {
           "style": "light"
          },
          "paper_bgcolor": "white",
          "plot_bgcolor": "#E5ECF6",
          "polar": {
           "angularaxis": {
            "gridcolor": "white",
            "linecolor": "white",
            "ticks": ""
           },
           "bgcolor": "#E5ECF6",
           "radialaxis": {
            "gridcolor": "white",
            "linecolor": "white",
            "ticks": ""
           }
          },
          "scene": {
           "xaxis": {
            "backgroundcolor": "#E5ECF6",
            "gridcolor": "white",
            "gridwidth": 2,
            "linecolor": "white",
            "showbackground": true,
            "ticks": "",
            "zerolinecolor": "white"
           },
           "yaxis": {
            "backgroundcolor": "#E5ECF6",
            "gridcolor": "white",
            "gridwidth": 2,
            "linecolor": "white",
            "showbackground": true,
            "ticks": "",
            "zerolinecolor": "white"
           },
           "zaxis": {
            "backgroundcolor": "#E5ECF6",
            "gridcolor": "white",
            "gridwidth": 2,
            "linecolor": "white",
            "showbackground": true,
            "ticks": "",
            "zerolinecolor": "white"
           }
          },
          "shapedefaults": {
           "line": {
            "color": "#2a3f5f"
           }
          },
          "ternary": {
           "aaxis": {
            "gridcolor": "white",
            "linecolor": "white",
            "ticks": ""
           },
           "baxis": {
            "gridcolor": "white",
            "linecolor": "white",
            "ticks": ""
           },
           "bgcolor": "#E5ECF6",
           "caxis": {
            "gridcolor": "white",
            "linecolor": "white",
            "ticks": ""
           }
          },
          "title": {
           "x": 0.05
          },
          "xaxis": {
           "automargin": true,
           "gridcolor": "white",
           "linecolor": "white",
           "ticks": "",
           "title": {
            "standoff": 15
           },
           "zerolinecolor": "white",
           "zerolinewidth": 2
          },
          "yaxis": {
           "automargin": true,
           "gridcolor": "white",
           "linecolor": "white",
           "ticks": "",
           "title": {
            "standoff": 15
           },
           "zerolinecolor": "white",
           "zerolinewidth": 2
          }
         }
        },
        "title": {
         "text": "Sentiment of Reddit's most-voted comments on COVID-19"
        },
        "width": 800,
        "xaxis": {
         "anchor": "y",
         "domain": [
          0,
          1
         ],
         "title": {
          "text": "Date comment was posted"
         }
        },
        "yaxis": {
         "anchor": "x",
         "domain": [
          0,
          1
         ],
         "title": {
          "text": "Comment positivity"
         }
        }
       }
      },
      "text/html": [
       "<div>\n",
       "        \n",
       "        \n",
       "            <div id=\"301f8740-6609-4eda-b74a-c4021b851b8a\" class=\"plotly-graph-div\" style=\"height:800px; width:800px;\"></div>\n",
       "            <script type=\"text/javascript\">\n",
       "                require([\"plotly\"], function(Plotly) {\n",
       "                    window.PLOTLYENV=window.PLOTLYENV || {};\n",
       "                    \n",
       "                if (document.getElementById(\"301f8740-6609-4eda-b74a-c4021b851b8a\")) {\n",
       "                    Plotly.newPlot(\n",
       "                        '301f8740-6609-4eda-b74a-c4021b851b8a',\n",
       "                        [{\"customdata\": [[\"munnmuun\", \"/r/mildlyinteresting/comments/eucakq/this_deformed_corona_extra_bottle_from_mexico/ffox6y6/\", \"Don't drink corona you will get the coronavirus lo\"], [\"biotuner\", \"/r/worldnews/comments/f0vrke/10_wuhan_professors_signed_an_open_letter/fh0c1rl/\", \"Their actions have nothing to do with the severity\"], [\"TrumpIsABigFatLiar\", \"/r/worldnews/comments/f1iiiq/coronavirus_live_updates_china_says_death_toll/fh6puea/\", \"[Their labs are overloaded](https://www.nytimes.co\"], [\"JDburn08\", \"/r/australia/comments/ff1s6o/inaccuracies_and_unfairness_infected_gp_demands/fjungvl/\", \"* doctor gets cold symptoms but doesn\\u2019t meet the c\"], [\"beachhike\", \"/r/worldnews/comments/ff2wfp/coronavirus_outbreak_causes_decline_in_china/fjvaegp/\", \"Coronavirus: Mother Earth strikes back\"], [\"alou404\", \"/r/therewasanattempt/comments/ff5maz/to_give_kids_homework/fjw8x3b/\", \"Now we should all rate the coronavirus 1 star so t\"], [\"markb4587\", \"/r/worldnews/comments/ff3kbt/iran_coronavirus_kills_the_butcher_of_tehran/fjvd3y3/\", \"Coronavirus singlehandedly killing terrorists and \"], [\"slightly_chronocidal\", \"/r/WhitePeopleTwitter/comments/ff31wc/down_not_out/fjvuihw/\", \"[looks like it!](https://mashable.com/article/wuha\"], [\"misogichan\", \"/r/AskReddit/comments/fezt5a/what_is_some_uplifting_news_about_the_covid19/fjw2gae/\", \"I don't think that's going to be rare either.  [Ch\"], [\"Helkafen1\", \"/r/worldnews/comments/ff2wfp/coronavirus_outbreak_causes_decline_in_china/fjvyg8g/\", \"The coronavirus shows how much we are willing to d\"], [\"StrangeItIs2BNEThing\", \"/r/Coronavirus/comments/fg2x77/breaking_usa_trump_to_speak_at_emergency/fk24ho7/\", \"The POTUS is generally an unreliable source. If po\"], [\"flae99\", \"/r/soccer/comments/fh5arr/official_daniele_rugani_has_coronavirus/fk8x47k/\", \"Ronaldo's immune system must be in such excellent \"], [\"kungfuhrer666\", \"/r/soccer/comments/fh5arr/official_daniele_rugani_has_coronavirus/fk8wkcu/\", \"And the season is most definitely over. Wonder how\"], [\"lunch77\", \"/r/MMA/comments/fh6l5y/dana_just_posted_this_on_his_instagram_story/fk97zdf/\", \"Wouldn\\u2019t it be crazy if Coronavirus actually resul\"], [\"SpoatieOpie\", \"/r/trashy/comments/fhj0kq/utah_jazz_star_mocks_the_coronavirus_and_touches/fkbu1j6/\", \"His teammate donovan mitchell has now tested posit\"], [\"KatanaAmerica\", \"/r/nba/comments/fh80su/video_of_gobert_touching_all_the_mics/fk9id2r/\", \"WELP! He ACTUALLY HAS Coronavirus\\n\\nhttps://twitter\"], [\"Nowitzki_41\", \"/r/worldnews/comments/fh80mi/trump_suspends_travel_from_europe_for_30_days_as/fk9ha31/\", \"i think he said americans would be allowed back, w\"], [\"ShoveYourHeadUpMyAss\", \"/r/nba/comments/fh8e8c/charania_the_nba_has_suspended_its_season/fk9j8tw/\", \"Can\\u2019t wait to use the coronavirus historic team in\"], [\"BeetsBy_Schrute\", \"/r/worldnews/comments/fh80mi/trump_suspends_travel_from_europe_for_30_days_as/fk9n723/\", \"Hard to believe that two months ago, we thought we\"], [\"johqui1092\", \"/r/nba/comments/fh7n8g/highlight_chilling_announcement_at_the/fk9d3m5/\", \"\\\"Please drive safely on your way home! You probabl\"], [\"Joe_Rogan_is_bae\", \"/r/Coronavirus/comments/fh870p/actor_tom_hanks_says_he_and_his_wife_have_tested/fk9lv5l/\", \"Tom. We know Coronavirus is far more deadly to smo\"], [\"rakodon\", \"/r/sports/comments/fh8fn9/the_nba_has_suspended_the_season/fk9md96/\", \"1920: Spanish Flu\\n\\n2020: Coronavirus\\n\\nWonder what \"], [\"RoosDePoes\", \"/r/worldnews/comments/fh80mi/trump_suspends_travel_from_europe_for_30_days_as/fk9h7cv/\", \"That speech he gave was pure propaganda... He clai\"], [\"Vindve\", \"/r/worldnews/comments/fh80mi/trump_suspends_travel_from_europe_for_30_days_as/fk9kz6z/\", \"&gt; Calling coronavirus a \\\"foreign virus,\\\" Trump \"], [\"never_dude84\", \"/r/soccer/comments/fh7ljn/daniele_rugani_yes_ive_the_coronavirus_but_dont/fk9ct3h/\", \"Coronavirus has no colours. Respect from a leprosy\"], [\"Warfrogger\", \"/r/AskReddit/comments/fhkcw8/what_are_we_all_missing_right_now_because_it_gets/fkcueg4/\", \"My boss, a 67 year old practicing physician, came \"], [\"Peregrine2976\", \"/r/AskReddit/comments/fhnzqi/how_do_you_think_the_world_would_react_if_a_major/fkct5xh/\", \"If Trump dies of COVID-19, Alex Jones's head will \"], [\"theRichgetRicherish\", \"/r/television/comments/fjprai/idris_elba_confirms_he_tested_positive_for_covid19/fkod4km/\", \"I am aware of the effect I have on coronavirus\"], [\"100viewsandviral\", \"/r/nba/comments/fkdf0l/charania_kevin_durant_tested_positive_for/fks83z9/\", \"The coronavirus did not target Rudy Gobert. Rudy G\"], [\"22MapleJordan22\", \"/r/nba/comments/fkdf0l/charania_kevin_durant_tested_positive_for/fks1s3c/\", \"The coronavirus only infects all stars whether it\\u2019\"], [\"criesingucci\", \"/r/insanepeoplefacebook/comments/fkud0f/disgusting_double_standards/fkv8ngc/\", \"Between parasite winning best picture and coronavi\"], [\"TannedCroissant\", \"/r/AskReddit/comments/fkqarp/serious_what_other_things_are_happening_in_the/fkv8stw/\", \"[And also dolphins spotted in the Venice canals!](\"], [\"earlyviolet\", \"/r/YouShouldKnow/comments/fkgiqb/ysk_that_your_local_fire_department_and_ems/fksqw1i/\", \"I'm a nurse and pretty much all hospitals are in t\"], [\"Arisal1122\", \"/r/WhitePeopleTwitter/comments/fkv62r/jeff_bezos_is_a_dickheadshaped_dick_head_part_342/fkvvb02/\", \"Okay, let me give you the REAL news as someone who\"], [\"dovetc\", \"/r/videos/comments/fljjp1/this_is_what_coronavirus_looks_like_in_an_italian/fkz0bh7/\", \"Italy is basically the worst country in the world \"], [\"ParkingLack\", \"/r/AdviceAnimals/comments/fllar5/stay_inside_damn_it/fkzfrot/\", \"Young people care about coronavirus as much as boo\"], [\"Muuvie\", \"/r/news/comments/fogtdz/waffle_house_closes_365_locations_across_the_us/flf9lv6/\", \"There was another post on AskReddit not too long a\"], [\"rhabdomyomatosis\", \"/r/science/comments/fxe14a/cats_may_be_susceptible_to_covid19_according_to_a/fmu08mn/\", \"I've been waiting for this to hit the mainstream -\"], [\"electronicbody\", \"/r/insaneparents/comments/fxjity/update_im_immunocompromised_and_my_mom_refused_to/fmv7wfl/\", \"You know damn well they will. If that were me i'd \"]], \"hovertemplate\": \"sentiment=positive<br>Date comment was posted=%{x}<br>Comment positivity=%{y}<br>score=%{marker.size}<br>author=%{customdata[0]}<br>permalink=%{customdata[1]}<br>preview=%{customdata[2]}<extra></extra>\", \"legendgroup\": \"positive\", \"marker\": {\"color\": \"green\", \"size\": [706, 850, 529, 759, 601, 979, 932, 875, 581, 509, 545, 1822, 1698, 420, 1435, 1140, 734, 704, 616, 553, 514, 500, 500, 447, 433, 815, 515, 666, 559, 449, 1493, 851, 547, 858, 509, 660, 663, 1418, 550], \"sizemode\": \"area\", \"sizeref\": 0.7288, \"symbol\": \"circle\"}, \"mode\": \"markers\", \"name\": \"positive\", \"showlegend\": true, \"type\": \"scatter\", \"x\": [720745472, 639029248, -1617590272, -1918368256, 1040753152, 700819968, -1111136256, 1654580224, 753417728, -677178368, 661049344, -1102556672, -749813248, -1301411328, -2123895808, 319864832, -1909877248, 283527680, 80402944, -1368453120, -1710385664, -1178227200, 334763008, 1800787968, 1430238720, -1025146880, -866262528, 1872693248, 135150592, 886240256, -925704704, -530083328, -888376320, -1475303424, 382809600, 288879104, -722606592, 1511557632, -1163130368], \"xaxis\": \"x\", \"y\": [0.8, 0.05, 0.0, 0.14747474747474745, 0.0, 0.0, 0.0, 0.8, 0.18125, 0.08750000000000001, 0.05833333333333334, 0.5, 0.35000000000000003, 0.1, 0.03409090909090909, 0.0, 0.0, 0.0, 0.10208333333333332, 0.625, 0.034374999999999996, 0.0, 0.37142857142857144, 0.05883520074696544, 0.0, 0.19166666666666665, 0.0, 0.25, 0.0, 0.0, 0.75, 0.0, 0.2111111111111111, 0.05207537560478737, 0.022272727272727267, 0.17142857142857146, 0.11666666666666668, 0.04122807017543859, 0.08713541666666666], \"yaxis\": \"y\"}, {\"hovertemplate\": \"<b>LOWESS trendline</b><br><br>sentiment=positive<br>Date comment was posted=%{x}<br>Comment positivity=%{y} <b>(trend)</b><extra></extra>\", \"legendgroup\": \"positive\", \"marker\": {\"color\": \"green\", \"symbol\": \"circle\"}, \"mode\": \"lines\", \"name\": \"positive\", \"showlegend\": false, \"type\": \"scatter\", \"x\": [-2123895808, -1918368256, -1909877248, -1710385664, -1617590272, -1475303424, -1368453120, -1301411328, -1178227200, -1163130368, -1111136256, -1102556672, -1025146880, -925704704, -888376320, -866262528, -749813248, -722606592, -677178368, -530083328, 80402944, 135150592, 283527680, 288879104, 319864832, 334763008, 382809600, 639029248, 661049344, 700819968, 720745472, 753417728, 886240256, 1040753152, 1430238720, 1511557632, 1654580224, 1800787968, 1872693248], \"xaxis\": \"x\", \"y\": [0.03140956957634754, 0.041491334214567695, 0.04191312718913582, 0.05186455538419024, 0.05645358745725202, 0.06332967578000469, 0.06832686191155084, 0.07138227049264248, 0.07684366813983234, 0.07750096168263014, 0.07975274904106845, 0.08012348736881882, 0.08349450580019538, 0.08801779784314859, 0.08934299839180858, 0.08901931782673948, 0.09070277890019825, 0.08884237050415754, 0.08617733277880447, 0.08469245239059164, 0.06756545452337752, 0.06541957212294237, 0.05953879734589155, 0.059356452389569755, 0.05829368610301057, 0.05777998093168572, 0.055802708560671425, 0.05049577804221339, 0.050674180313014294, 0.05118438420436654, 0.05151204326416248, 0.05212881043148451, 0.0552335531071699, 0.059257568700481655, 0.06920524814288492, 0.07122999271234409, 0.07484710643335588, 0.07875909826110096, 0.08080927002616195], \"yaxis\": \"y\"}, {\"customdata\": [[\"yerich\", \"/r/worldnews/comments/ev6zmb/japan_and_germany_confirm_patients_who_caught/ffubbpr/\", \"[From another article](https://www.dw.com/en/germa\"], [\"RimRunningRagged\", \"/r/nba/comments/ff3kwk/murdock_warriors_release_a_statement_on_stephen/fjv7m27/\", \"I know this is serious business with the Coronavir\"], [\"GunnersaurusDen\", \"/r/soccer/comments/fh5arr/official_daniele_rugani_has_coronavirus/fk8wmki/\", \"Holy shit Ronaldo might have coronavirus\"], [\"Qwikskoupa69\", \"/r/soccer/comments/fh5arr/official_daniele_rugani_has_coronavirus/fk8y9bt/\", \"*Breaking: Coronavirus has disappeared after Reddi\"], [\"Saxophone-Life\", \"/r/memes/comments/fh5cjq/the_trickster/fk95xbc/\", \"both a [$3200 cost](https://www.politifact.com/fac\"], [\"logicatch\", \"/r/nba/comments/fh8bqd/charania_utah_jazz_allstar_rudy_gobert_has_tested/fk9iaw5/\", \"In just the last 30 minutes Trump just banned trav\"], [\"oddible\", \"/r/worldnews/comments/fh80mi/trump_suspends_travel_from_europe_for_30_days_as/fk9k6im/\", \"Crazy is spending nearly $20 billion from the Emer\"], [\"ShamusJohnson13\", \"/r/worldnews/comments/fh80mi/trump_suspends_travel_from_europe_for_30_days_as/fk9ga1n/\", \"Europe : *has Coronavirus*\\n\\nTrump: \\\"Fuck you!\\\"\\n\\nBr\"], [\"amiatthetop2\", \"/r/worldnews/comments/fh80mi/trump_suspends_travel_from_europe_for_30_days_as/fk9j3ni/\", \"Tom Hanks and his wife just tweeted that they are \"], [\"Hisoka_Brando\", \"/r/nba/comments/fh8bqd/charania_utah_jazz_allstar_rudy_gobert_has_tested/fk9icpt/\", \"He touched every mic to mock the coronavirus, the \"], [\"lostboy005\", \"/r/worldnews/comments/fh80mi/trump_suspends_travel_from_europe_for_30_days_as/fk9n144/\", \"&gt; TOM FUCKING HANKS has coronavirus\\n\\nholy fuck \"], [\"Jbaquero\", \"/r/baseball/comments/fh8hrk/charania_the_nba_has_suspended_its_season/fk9jesk/\", \"Rudy Gobert needs to be severely punished or banne\"], [\"ForCaste\", \"/r/nba/comments/fh8e8c/charania_the_nba_has_suspended_its_season/fk9k58h/\", \"\\\"Gobert watch out! Coronavirus is right behind you\"], [\"Nihilistic_Response\", \"/r/Coronavirus/comments/fh85cs/megathread_president_trump_announces_30day_travel/fk9h9nf/\", \"Tom Hanks has caught coronavirus while in Australi\"], [\"edgarpickle\", \"/r/AskReddit/comments/fkzaca/what_is_something_that_has_aged_well/fkvutra/\", \"Weird Al. \\n\\nCelebrity after celebrity comes out wi\"], [\"MemoryAccessRegister\", \"/r/AskReddit/comments/fnszg7/serious_when_did_covid19_get_real_for_you/flc0zwl/\", \"&gt;This is starting to sound like the factory con\"], [\"the1whogotaway101\", \"/r/nottheonion/comments/fofy87/person_who_attended_caronavirus_party_just_tested/flf0x28/\", \"As someone who lives in Kentucky, can confirm. Hal\"]], \"hovertemplate\": \"sentiment=negative<br>Date comment was posted=%{x}<br>Comment positivity=%{y}<br>score=%{marker.size}<br>author=%{customdata[0]}<br>permalink=%{customdata[1]}<br>preview=%{customdata[2]}<extra></extra>\", \"legendgroup\": \"negative\", \"marker\": {\"color\": \"red\", \"size\": [589, 432, 1091, 490, 414, 1608, 1516, 1334, 930, 920, 561, 514, 442, 398, 1239, 625, 664], \"sizemode\": \"area\", \"sizeref\": 0.7288, \"symbol\": \"circle\"}, \"mode\": \"markers\", \"name\": \"negative\", \"showlegend\": true, \"type\": \"scatter\", \"x\": [1314695680, 98983424, 1185415680, -1218108928, -235731968, -320396800, -1112547840, -1679226880, 887906304, -1385167872, 1864650752, 1089214464, 362288640, -319942656, 877440000, 1938357248, 1029845504], \"xaxis\": \"x\", \"y\": [-0.011904761904761902, -0.1277777777777778, -0.2, -0.4, -0.4000000000000001, -0.05000000000000001, -0.16666666666666666, -0.07500000000000001, -0.25, -0.8, -0.3125, -0.07424242424242422, -0.10714285714285715, -0.75, -0.5, -0.06499999999999999, -0.48333333333333334], \"yaxis\": \"y\"}, {\"hovertemplate\": \"<b>LOWESS trendline</b><br><br>sentiment=negative<br>Date comment was posted=%{x}<br>Comment positivity=%{y} <b>(trend)</b><extra></extra>\", \"legendgroup\": \"negative\", \"marker\": {\"color\": \"red\", \"symbol\": \"circle\"}, \"mode\": \"lines\", \"name\": \"negative\", \"showlegend\": false, \"type\": \"scatter\", \"x\": [-1679226880, -1385167872, -1218108928, -1112547840, -320396800, -319942656, -235731968, 98983424, 362288640, 877440000, 887906304, 1029845504, 1089214464, 1185415680, 1314695680, 1864650752, 1938357248], \"xaxis\": \"x\", \"y\": [-0.3142591936736237, -0.31429171157383035, -0.31378894663657886, -0.31344009263851885, -0.2746060931522152, -0.274544585018974, -0.26663222018495847, -0.26534009882134396, -0.24533056363913636, -0.2331432461647596, -0.2329462091134101, -0.22883947367003335, -0.2263948161001614, -0.2213963482083789, -0.21263215990224651, -0.1611190667021723, -0.15386229277845315], \"yaxis\": \"y\"}],\n",
       "                        {\"autosize\": false, \"height\": 800, \"legend\": {\"itemsizing\": \"constant\", \"title\": {\"text\": \"sentiment\"}, \"tracegroupgap\": 0}, \"plot_bgcolor\": \"white\", \"template\": {\"data\": {\"bar\": [{\"error_x\": {\"color\": \"#2a3f5f\"}, \"error_y\": {\"color\": \"#2a3f5f\"}, \"marker\": {\"line\": {\"color\": \"#E5ECF6\", \"width\": 0.5}}, \"type\": \"bar\"}], \"barpolar\": [{\"marker\": {\"line\": {\"color\": \"#E5ECF6\", \"width\": 0.5}}, \"type\": \"barpolar\"}], \"carpet\": [{\"aaxis\": {\"endlinecolor\": \"#2a3f5f\", \"gridcolor\": \"white\", \"linecolor\": \"white\", \"minorgridcolor\": \"white\", \"startlinecolor\": \"#2a3f5f\"}, \"baxis\": {\"endlinecolor\": \"#2a3f5f\", \"gridcolor\": \"white\", \"linecolor\": \"white\", \"minorgridcolor\": \"white\", \"startlinecolor\": \"#2a3f5f\"}, \"type\": \"carpet\"}], \"choropleth\": [{\"colorbar\": {\"outlinewidth\": 0, \"ticks\": \"\"}, \"type\": \"choropleth\"}], \"contour\": [{\"colorbar\": {\"outlinewidth\": 0, \"ticks\": \"\"}, \"colorscale\": [[0.0, \"#0d0887\"], [0.1111111111111111, \"#46039f\"], [0.2222222222222222, \"#7201a8\"], [0.3333333333333333, \"#9c179e\"], [0.4444444444444444, \"#bd3786\"], [0.5555555555555556, \"#d8576b\"], [0.6666666666666666, \"#ed7953\"], [0.7777777777777778, \"#fb9f3a\"], [0.8888888888888888, \"#fdca26\"], [1.0, \"#f0f921\"]], \"type\": \"contour\"}], \"contourcarpet\": [{\"colorbar\": {\"outlinewidth\": 0, \"ticks\": \"\"}, \"type\": \"contourcarpet\"}], \"heatmap\": [{\"colorbar\": {\"outlinewidth\": 0, \"ticks\": \"\"}, \"colorscale\": [[0.0, \"#0d0887\"], [0.1111111111111111, \"#46039f\"], [0.2222222222222222, \"#7201a8\"], [0.3333333333333333, \"#9c179e\"], [0.4444444444444444, \"#bd3786\"], [0.5555555555555556, \"#d8576b\"], [0.6666666666666666, \"#ed7953\"], [0.7777777777777778, \"#fb9f3a\"], [0.8888888888888888, \"#fdca26\"], [1.0, \"#f0f921\"]], \"type\": \"heatmap\"}], \"heatmapgl\": [{\"colorbar\": {\"outlinewidth\": 0, \"ticks\": \"\"}, \"colorscale\": [[0.0, \"#0d0887\"], [0.1111111111111111, \"#46039f\"], [0.2222222222222222, \"#7201a8\"], [0.3333333333333333, \"#9c179e\"], [0.4444444444444444, \"#bd3786\"], [0.5555555555555556, \"#d8576b\"], [0.6666666666666666, \"#ed7953\"], [0.7777777777777778, \"#fb9f3a\"], [0.8888888888888888, \"#fdca26\"], [1.0, \"#f0f921\"]], \"type\": \"heatmapgl\"}], \"histogram\": [{\"marker\": {\"colorbar\": {\"outlinewidth\": 0, \"ticks\": \"\"}}, \"type\": \"histogram\"}], \"histogram2d\": [{\"colorbar\": {\"outlinewidth\": 0, \"ticks\": \"\"}, \"colorscale\": [[0.0, \"#0d0887\"], [0.1111111111111111, \"#46039f\"], [0.2222222222222222, \"#7201a8\"], [0.3333333333333333, \"#9c179e\"], [0.4444444444444444, \"#bd3786\"], [0.5555555555555556, \"#d8576b\"], [0.6666666666666666, \"#ed7953\"], [0.7777777777777778, \"#fb9f3a\"], [0.8888888888888888, \"#fdca26\"], [1.0, \"#f0f921\"]], \"type\": \"histogram2d\"}], \"histogram2dcontour\": [{\"colorbar\": {\"outlinewidth\": 0, \"ticks\": \"\"}, \"colorscale\": [[0.0, \"#0d0887\"], [0.1111111111111111, \"#46039f\"], [0.2222222222222222, \"#7201a8\"], [0.3333333333333333, \"#9c179e\"], [0.4444444444444444, \"#bd3786\"], [0.5555555555555556, \"#d8576b\"], [0.6666666666666666, \"#ed7953\"], [0.7777777777777778, \"#fb9f3a\"], [0.8888888888888888, \"#fdca26\"], [1.0, \"#f0f921\"]], \"type\": \"histogram2dcontour\"}], \"mesh3d\": [{\"colorbar\": {\"outlinewidth\": 0, \"ticks\": \"\"}, \"type\": \"mesh3d\"}], \"parcoords\": [{\"line\": {\"colorbar\": {\"outlinewidth\": 0, \"ticks\": \"\"}}, \"type\": \"parcoords\"}], \"pie\": [{\"automargin\": true, \"type\": \"pie\"}], \"scatter\": [{\"marker\": {\"colorbar\": {\"outlinewidth\": 0, \"ticks\": \"\"}}, \"type\": \"scatter\"}], \"scatter3d\": [{\"line\": {\"colorbar\": {\"outlinewidth\": 0, \"ticks\": \"\"}}, \"marker\": {\"colorbar\": {\"outlinewidth\": 0, \"ticks\": \"\"}}, \"type\": \"scatter3d\"}], \"scattercarpet\": [{\"marker\": {\"colorbar\": {\"outlinewidth\": 0, \"ticks\": \"\"}}, \"type\": \"scattercarpet\"}], \"scattergeo\": [{\"marker\": {\"colorbar\": {\"outlinewidth\": 0, \"ticks\": \"\"}}, \"type\": \"scattergeo\"}], \"scattergl\": [{\"marker\": {\"colorbar\": {\"outlinewidth\": 0, \"ticks\": \"\"}}, \"type\": \"scattergl\"}], \"scattermapbox\": [{\"marker\": {\"colorbar\": {\"outlinewidth\": 0, \"ticks\": \"\"}}, \"type\": \"scattermapbox\"}], \"scatterpolar\": [{\"marker\": {\"colorbar\": {\"outlinewidth\": 0, \"ticks\": \"\"}}, \"type\": \"scatterpolar\"}], \"scatterpolargl\": [{\"marker\": {\"colorbar\": {\"outlinewidth\": 0, \"ticks\": \"\"}}, \"type\": \"scatterpolargl\"}], \"scatterternary\": [{\"marker\": {\"colorbar\": {\"outlinewidth\": 0, \"ticks\": \"\"}}, \"type\": \"scatterternary\"}], \"surface\": [{\"colorbar\": {\"outlinewidth\": 0, \"ticks\": \"\"}, \"colorscale\": [[0.0, \"#0d0887\"], [0.1111111111111111, \"#46039f\"], [0.2222222222222222, \"#7201a8\"], [0.3333333333333333, \"#9c179e\"], [0.4444444444444444, \"#bd3786\"], [0.5555555555555556, \"#d8576b\"], [0.6666666666666666, \"#ed7953\"], [0.7777777777777778, \"#fb9f3a\"], [0.8888888888888888, \"#fdca26\"], [1.0, \"#f0f921\"]], \"type\": \"surface\"}], \"table\": [{\"cells\": {\"fill\": {\"color\": \"#EBF0F8\"}, \"line\": {\"color\": \"white\"}}, \"header\": {\"fill\": {\"color\": \"#C8D4E3\"}, \"line\": {\"color\": \"white\"}}, \"type\": \"table\"}]}, \"layout\": {\"annotationdefaults\": {\"arrowcolor\": \"#2a3f5f\", \"arrowhead\": 0, \"arrowwidth\": 1}, \"coloraxis\": {\"colorbar\": {\"outlinewidth\": 0, \"ticks\": \"\"}}, \"colorscale\": {\"diverging\": [[0, \"#8e0152\"], [0.1, \"#c51b7d\"], [0.2, \"#de77ae\"], [0.3, \"#f1b6da\"], [0.4, \"#fde0ef\"], [0.5, \"#f7f7f7\"], [0.6, \"#e6f5d0\"], [0.7, \"#b8e186\"], [0.8, \"#7fbc41\"], [0.9, \"#4d9221\"], [1, \"#276419\"]], \"sequential\": [[0.0, \"#0d0887\"], [0.1111111111111111, \"#46039f\"], [0.2222222222222222, \"#7201a8\"], [0.3333333333333333, \"#9c179e\"], [0.4444444444444444, \"#bd3786\"], [0.5555555555555556, \"#d8576b\"], [0.6666666666666666, \"#ed7953\"], [0.7777777777777778, \"#fb9f3a\"], [0.8888888888888888, \"#fdca26\"], [1.0, \"#f0f921\"]], \"sequentialminus\": [[0.0, \"#0d0887\"], [0.1111111111111111, \"#46039f\"], [0.2222222222222222, \"#7201a8\"], [0.3333333333333333, \"#9c179e\"], [0.4444444444444444, \"#bd3786\"], [0.5555555555555556, \"#d8576b\"], [0.6666666666666666, \"#ed7953\"], [0.7777777777777778, \"#fb9f3a\"], [0.8888888888888888, \"#fdca26\"], [1.0, \"#f0f921\"]]}, \"colorway\": [\"#636efa\", \"#EF553B\", \"#00cc96\", \"#ab63fa\", \"#FFA15A\", \"#19d3f3\", \"#FF6692\", \"#B6E880\", \"#FF97FF\", \"#FECB52\"], \"font\": {\"color\": \"#2a3f5f\"}, \"geo\": {\"bgcolor\": \"white\", \"lakecolor\": \"white\", \"landcolor\": \"#E5ECF6\", \"showlakes\": true, \"showland\": true, \"subunitcolor\": \"white\"}, \"hoverlabel\": {\"align\": \"left\"}, \"hovermode\": \"closest\", \"mapbox\": {\"style\": \"light\"}, \"paper_bgcolor\": \"white\", \"plot_bgcolor\": \"#E5ECF6\", \"polar\": {\"angularaxis\": {\"gridcolor\": \"white\", \"linecolor\": \"white\", \"ticks\": \"\"}, \"bgcolor\": \"#E5ECF6\", \"radialaxis\": {\"gridcolor\": \"white\", \"linecolor\": \"white\", \"ticks\": \"\"}}, \"scene\": {\"xaxis\": {\"backgroundcolor\": \"#E5ECF6\", \"gridcolor\": \"white\", \"gridwidth\": 2, \"linecolor\": \"white\", \"showbackground\": true, \"ticks\": \"\", \"zerolinecolor\": \"white\"}, \"yaxis\": {\"backgroundcolor\": \"#E5ECF6\", \"gridcolor\": \"white\", \"gridwidth\": 2, \"linecolor\": \"white\", \"showbackground\": true, \"ticks\": \"\", \"zerolinecolor\": \"white\"}, \"zaxis\": {\"backgroundcolor\": \"#E5ECF6\", \"gridcolor\": \"white\", \"gridwidth\": 2, \"linecolor\": \"white\", \"showbackground\": true, \"ticks\": \"\", \"zerolinecolor\": \"white\"}}, \"shapedefaults\": {\"line\": {\"color\": \"#2a3f5f\"}}, \"ternary\": {\"aaxis\": {\"gridcolor\": \"white\", \"linecolor\": \"white\", \"ticks\": \"\"}, \"baxis\": {\"gridcolor\": \"white\", \"linecolor\": \"white\", \"ticks\": \"\"}, \"bgcolor\": \"#E5ECF6\", \"caxis\": {\"gridcolor\": \"white\", \"linecolor\": \"white\", \"ticks\": \"\"}}, \"title\": {\"x\": 0.05}, \"xaxis\": {\"automargin\": true, \"gridcolor\": \"white\", \"linecolor\": \"white\", \"ticks\": \"\", \"title\": {\"standoff\": 15}, \"zerolinecolor\": \"white\", \"zerolinewidth\": 2}, \"yaxis\": {\"automargin\": true, \"gridcolor\": \"white\", \"linecolor\": \"white\", \"ticks\": \"\", \"title\": {\"standoff\": 15}, \"zerolinecolor\": \"white\", \"zerolinewidth\": 2}}}, \"title\": {\"text\": \"Sentiment of Reddit's most-voted comments on COVID-19\"}, \"width\": 800, \"xaxis\": {\"anchor\": \"y\", \"domain\": [0.0, 1.0], \"title\": {\"text\": \"Date comment was posted\"}}, \"yaxis\": {\"anchor\": \"x\", \"domain\": [0.0, 1.0], \"title\": {\"text\": \"Comment positivity\"}}},\n",
       "                        {\"responsive\": true}\n",
       "                    ).then(function(){\n",
       "                            \n",
       "var gd = document.getElementById('301f8740-6609-4eda-b74a-c4021b851b8a');\n",
       "var x = new MutationObserver(function (mutations, observer) {{\n",
       "        var display = window.getComputedStyle(gd).display;\n",
       "        if (!display || display === 'none') {{\n",
       "            console.log([gd, 'removed!']);\n",
       "            Plotly.purge(gd);\n",
       "            observer.disconnect();\n",
       "        }}\n",
       "}});\n",
       "\n",
       "// Listen for the removal of the full notebook cells\n",
       "var notebookContainer = gd.closest('#notebook-container');\n",
       "if (notebookContainer) {{\n",
       "    x.observe(notebookContainer, {childList: true});\n",
       "}}\n",
       "\n",
       "// Listen for the clearing of the current output cell\n",
       "var outputEl = gd.closest('.output');\n",
       "if (outputEl) {{\n",
       "    x.observe(outputEl, {childList: true});\n",
       "}}\n",
       "\n",
       "                        })\n",
       "                };\n",
       "                });\n",
       "            </script>\n",
       "        </div>"
      ]
     },
     "metadata": {},
     "output_type": "display_data"
    }
   ],
   "source": [
    "df_final['Cluster'] = df_km['Cluster']\n",
    "\n",
    "df_cluster1 = df_final.loc[df_final['Cluster'] == 0]\n",
    "fig = px.scatter(df_cluster1, x=\"date\",\n",
    "           y=\"sentiment_polarity\", \n",
    "           trendline = 'lowess',\n",
    "           hover_data=[\"author\", \"permalink\", \"preview\"], \n",
    "           color_discrete_sequence=[\"green\", \"red\"], \n",
    "           color=\"sentiment\", \n",
    "           size=\"score\", \n",
    "           size_max=50,\n",
    "           labels={\"sentiment_polarity\": \"Comment positivity\", \"date\": \"Date comment was posted\"}, \n",
    "           title=f\"Sentiment of Reddit's most-voted comments on COVID-19\",\n",
    "          )\n",
    "fig.update_layout(\n",
    "    autosize=False,\n",
    "    width=800,\n",
    "    height = 800,\n",
    "    plot_bgcolor = 'white'\n",
    ")\n",
    "fig.show()"
   ]
  }
 ],
 "metadata": {
  "kernelspec": {
   "display_name": "Python 3",
   "language": "python",
   "name": "python3"
  },
  "language_info": {
   "codemirror_mode": {
    "name": "ipython",
    "version": 3
   },
   "file_extension": ".py",
   "mimetype": "text/x-python",
   "name": "python",
   "nbconvert_exporter": "python",
   "pygments_lexer": "ipython3",
   "version": "3.7.4"
  }
 },
 "nbformat": 4,
 "nbformat_minor": 2
}
